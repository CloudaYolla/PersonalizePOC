{
 "cells": [
  {
   "cell_type": "markdown",
   "metadata": {},
   "source": [
    "# Module 2: Creating and Evaluating Solutions \n",
    "\n",
    "`\n",
    "Rev Date           By       Description\n",
    "PA1 2020-02-16     akirmak  Modified & extended version of PersonalizePoC created by Chris King (github: chrisking@)\n",
    "`\n",
    "\n",
    "In this module, we will create 3 solution using three Amazon Personalize Recipes: \n",
    "1. HRNN - Personalization\n",
    "1. SIMS(Similar Items) - Given one item, what other items are also interacted with by users.\n",
    "1. Personalized-Ranking - Takes a collection of items and then orders them in probable order of interest using an HRNN-like approach.\n",
    "\n",
    "We will also evaluate the performance of each solution by analyzing several rank-aware metrics. \n",
    "\n",
    "\n",
    "## Creating Solutions\n",
    "\n",
    "This nobeook will cover creating the following solutions:\n",
    "\n",
    "1. HRNN\n",
    "1. SIMS\n",
    "1. Personalized-Ranking\n",
    "\n",
    "After that the metrics will be explained and another notebook will showcase how to interact with the Solutions once they are deployed into a Campaign.\n",
    "\n",
    "The first step is to reload the imports and the stored variables from the previous notebooks."
   ]
  },
  {
   "cell_type": "code",
   "execution_count": 1,
   "metadata": {},
   "outputs": [],
   "source": [
    "import boto3\n",
    "from time import sleep\n",
    "import subprocess\n",
    "import pandas as pd\n",
    "import json\n",
    "import time\n",
    "import pprint\n",
    "import numpy as np\n",
    "import matplotlib.pyplot as plt\n",
    "from matplotlib.dates import DateFormatter\n",
    "import matplotlib.dates as mdates\n",
    "from datetime import datetime"
   ]
  },
  {
   "cell_type": "code",
   "execution_count": 2,
   "metadata": {},
   "outputs": [],
   "source": [
    "%store -r"
   ]
  },
  {
   "cell_type": "code",
   "execution_count": 3,
   "metadata": {},
   "outputs": [],
   "source": [
    "# Configure the SDK to Personalize:\n",
    "personalize = boto3.client('personalize')\n",
    "personalize_runtime = boto3.client('personalize-runtime')"
   ]
  },
  {
   "cell_type": "markdown",
   "metadata": {},
   "source": [
    "In Amazon Personalize a trained model is called a Solution, each Solution can have many specific versions that relate to a given volume of data when the model was trained.\n",
    "\n",
    "To begin we will list all the recipies that are supported, a recipie is an algorithm that has not been trained on your data yet. After listing you'll select one and use that to build your model.\n"
   ]
  },
  {
   "cell_type": "code",
   "execution_count": 21,
   "metadata": {},
   "outputs": [
    {
     "name": "stdout",
     "output_type": "stream",
     "text": [
      "arn:aws:personalize:::recipe/aws-hrnn\n",
      "arn:aws:personalize:::recipe/aws-hrnn-coldstart\n",
      "arn:aws:personalize:::recipe/aws-hrnn-metadata\n",
      "arn:aws:personalize:::recipe/aws-personalized-ranking\n",
      "arn:aws:personalize:::recipe/aws-popularity-count\n",
      "arn:aws:personalize:::recipe/aws-sims\n"
     ]
    }
   ],
   "source": [
    "list_recipes_response = personalize.list_recipes()\n",
    "for recipe in list_recipes_response['recipes']:\n",
    "    print(recipe['recipeArn'])"
   ]
  },
  {
   "cell_type": "markdown",
   "metadata": {},
   "source": [
    "That is just a JSON representation of all of the algorithms that we have mentioned already. \n",
    "\n",
    "Next we will select a particular algorithm then build a model with it.\n",
    "\n",
    "### HRNN\n",
    "\n",
    "\n",
    "HRNN is one of the more advanced recommendation models that you can use and it allows for things like real-time updates of recommendations based on user behavior. It also tends to out perform other approaches like collaborative filtering. We will kick this job off first as it takes the longest to complete.\n",
    "\n",
    "#### Select Recipe"
   ]
  },
  {
   "cell_type": "code",
   "execution_count": 5,
   "metadata": {},
   "outputs": [],
   "source": [
    "HRNN_recipe_arn = \"arn:aws:personalize:::recipe/aws-hrnn\""
   ]
  },
  {
   "cell_type": "markdown",
   "metadata": {},
   "source": [
    "#### Create and Wait for Solution\n",
    "First you will create the solution with the API, then you will create a version. \n",
    "\n",
    "Note the solution is just a label kind of identifier, you'll also need to create a version which is the actual trained model."
   ]
  },
  {
   "cell_type": "code",
   "execution_count": 6,
   "metadata": {},
   "outputs": [
    {
     "name": "stdout",
     "output_type": "stream",
     "text": [
      "{\n",
      "  \"solutionArn\": \"arn:aws:personalize:us-east-1:924376141954:solution/personalize-poc-hrnn\",\n",
      "  \"ResponseMetadata\": {\n",
      "    \"RequestId\": \"e9485e94-c76d-40c3-af75-677642bd0153\",\n",
      "    \"HTTPStatusCode\": 200,\n",
      "    \"HTTPHeaders\": {\n",
      "      \"content-type\": \"application/x-amz-json-1.1\",\n",
      "      \"date\": \"Sat, 15 Feb 2020 13:29:33 GMT\",\n",
      "      \"x-amzn-requestid\": \"e9485e94-c76d-40c3-af75-677642bd0153\",\n",
      "      \"content-length\": \"90\",\n",
      "      \"connection\": \"keep-alive\"\n",
      "    },\n",
      "    \"RetryAttempts\": 0\n",
      "  }\n",
      "}\n"
     ]
    }
   ],
   "source": [
    "hrnn_create_solution_response = personalize.create_solution(\n",
    "    name = \"personalize-poc-hrnn\",\n",
    "    datasetGroupArn = dataset_group_arn,\n",
    "    recipeArn = HRNN_recipe_arn\n",
    ")\n",
    "\n",
    "hrnn_solution_arn = hrnn_create_solution_response['solutionArn']\n",
    "print(json.dumps(hrnn_create_solution_response, indent=2))"
   ]
  },
  {
   "cell_type": "markdown",
   "metadata": {},
   "source": [
    "#### Create the Solution Version\n",
    "\n",
    "This process will actually take a while to complete, upwards of 25 minutes on. Normally there would be while loops to poll until the task is completed. However the task would block other cells from executing and the goal here is to create many models and deploy them quickly. Below there are instructions to viewing the progress in browser. After creating all of the solution versions go there and watch for updates."
   ]
  },
  {
   "cell_type": "code",
   "execution_count": 9,
   "metadata": {},
   "outputs": [],
   "source": [
    "hrnn_create_solution_version_response = personalize.create_solution_version(\n",
    "    solutionArn = hrnn_solution_arn\n",
    ")"
   ]
  },
  {
   "cell_type": "code",
   "execution_count": 14,
   "metadata": {},
   "outputs": [
    {
     "name": "stdout",
     "output_type": "stream",
     "text": [
      "{\n",
      "  \"solutionVersionArn\": \"arn:aws:personalize:us-east-1:924376141954:solution/personalize-poc-hrnn/00987cb2\",\n",
      "  \"ResponseMetadata\": {\n",
      "    \"RequestId\": \"dceef793-0264-43a6-9912-b531ad0999b7\",\n",
      "    \"HTTPStatusCode\": 200,\n",
      "    \"HTTPHeaders\": {\n",
      "      \"content-type\": \"application/x-amz-json-1.1\",\n",
      "      \"date\": \"Sat, 15 Feb 2020 13:31:04 GMT\",\n",
      "      \"x-amzn-requestid\": \"dceef793-0264-43a6-9912-b531ad0999b7\",\n",
      "      \"content-length\": \"106\",\n",
      "      \"connection\": \"keep-alive\"\n",
      "    },\n",
      "    \"RetryAttempts\": 0\n",
      "  }\n",
      "}\n"
     ]
    }
   ],
   "source": [
    "hrnn_solution_version_arn = hrnn_create_solution_version_response['solutionVersionArn']\n",
    "print(json.dumps(hrnn_create_solution_version_response, indent=2))"
   ]
  },
  {
   "cell_type": "markdown",
   "metadata": {},
   "source": [
    "### SIMS\n",
    "\n",
    "\n",
    "SIMS is one of the longest running algorithms within Amazon for recommendation systems. A core use case for it is when you have one item and you want to recommend items that have been intereacted with in similar ways over your entire user base(not personalized). Sometimes this leads to recommending mostly popular items, so there is a hyperparameter that can be tweaked that will reduce the popular items in your results. \n",
    "\n",
    "Just as last time we start by selecting the recipie:\n",
    "\n",
    "#### Select Recipe"
   ]
  },
  {
   "cell_type": "code",
   "execution_count": 7,
   "metadata": {},
   "outputs": [],
   "source": [
    "## SIMS:\n",
    "SIMS_recipe_arn = \"arn:aws:personalize:::recipe/aws-sims\""
   ]
  },
  {
   "cell_type": "markdown",
   "metadata": {},
   "source": [
    "#### Create and Wait for Solution\n",
    "\n",
    "As with HRNN, start with the solution first.\n",
    "\n",
    "Note the solution is just a label kind of identifier, you'll also need to create a version which is the actual trained model."
   ]
  },
  {
   "cell_type": "code",
   "execution_count": 8,
   "metadata": {},
   "outputs": [
    {
     "name": "stdout",
     "output_type": "stream",
     "text": [
      "{\n",
      "  \"solutionArn\": \"arn:aws:personalize:us-east-1:924376141954:solution/personalize-poc-sims\",\n",
      "  \"ResponseMetadata\": {\n",
      "    \"RequestId\": \"6ef89cea-c35f-4c0b-9cff-37663ea4f696\",\n",
      "    \"HTTPStatusCode\": 200,\n",
      "    \"HTTPHeaders\": {\n",
      "      \"content-type\": \"application/x-amz-json-1.1\",\n",
      "      \"date\": \"Sat, 15 Feb 2020 13:30:27 GMT\",\n",
      "      \"x-amzn-requestid\": \"6ef89cea-c35f-4c0b-9cff-37663ea4f696\",\n",
      "      \"content-length\": \"90\",\n",
      "      \"connection\": \"keep-alive\"\n",
      "    },\n",
      "    \"RetryAttempts\": 0\n",
      "  }\n",
      "}\n"
     ]
    }
   ],
   "source": [
    "sims_create_solution_response = personalize.create_solution(\n",
    "    name = \"personalize-poc-sims\",\n",
    "    datasetGroupArn = dataset_group_arn,\n",
    "    recipeArn = SIMS_recipe_arn\n",
    ")\n",
    "\n",
    "sims_solution_arn = sims_create_solution_response['solutionArn']\n",
    "print(json.dumps(sims_create_solution_response, indent=2))"
   ]
  },
  {
   "cell_type": "markdown",
   "metadata": {},
   "source": [
    "#### Create the Solution Version\n",
    "\n",
    "This process will actually take a while to complete, upwards of 25 minutes on. Normally there would be while loops to poll until the task is completed. However the task would block other cells from executing and the goal here is to create many models and deploy them quickly. Below there are instructions to viewing the progress in browser. After creating all of the solution versions go there and watch for updates."
   ]
  },
  {
   "cell_type": "code",
   "execution_count": 10,
   "metadata": {},
   "outputs": [],
   "source": [
    "sims_create_solution_version_response = personalize.create_solution_version(\n",
    "    solutionArn = sims_solution_arn\n",
    ")"
   ]
  },
  {
   "cell_type": "code",
   "execution_count": 15,
   "metadata": {},
   "outputs": [
    {
     "name": "stdout",
     "output_type": "stream",
     "text": [
      "{\n",
      "  \"solutionVersionArn\": \"arn:aws:personalize:us-east-1:924376141954:solution/personalize-poc-sims/c283def0\",\n",
      "  \"ResponseMetadata\": {\n",
      "    \"RequestId\": \"7de2d588-7251-484d-a5ab-a3e6e30b8121\",\n",
      "    \"HTTPStatusCode\": 200,\n",
      "    \"HTTPHeaders\": {\n",
      "      \"content-type\": \"application/x-amz-json-1.1\",\n",
      "      \"date\": \"Sat, 15 Feb 2020 13:31:22 GMT\",\n",
      "      \"x-amzn-requestid\": \"7de2d588-7251-484d-a5ab-a3e6e30b8121\",\n",
      "      \"content-length\": \"106\",\n",
      "      \"connection\": \"keep-alive\"\n",
      "    },\n",
      "    \"RetryAttempts\": 0\n",
      "  }\n",
      "}\n"
     ]
    }
   ],
   "source": [
    "sims_solution_version_arn = sims_create_solution_version_response['solutionVersionArn']\n",
    "print(json.dumps(sims_create_solution_version_response, indent=2))"
   ]
  },
  {
   "cell_type": "markdown",
   "metadata": {},
   "source": [
    "### Personalized Ranking\n",
    "\n",
    "Personalized Ranking is an interesting application of HRNN. Instead of just recommending what is most probable for your user in question, this algorithm takes in a user and a list of items as well. The items are then rendered back in the order of most probability for the user. The use case here is for filtering on genre for example, or when you have a broad collection that you would like better ordered for a particular user.\n",
    "\n",
    "#### Select Recipe"
   ]
  },
  {
   "cell_type": "code",
   "execution_count": 11,
   "metadata": {},
   "outputs": [],
   "source": [
    "#### Personalized-rerank\n",
    "rerank_recipe_arn = \"arn:aws:personalize:::recipe/aws-personalized-ranking\""
   ]
  },
  {
   "cell_type": "markdown",
   "metadata": {},
   "source": [
    "#### Create and Wait for Solution\n",
    "First you will create the solution with the API, then you will create a version. \n",
    "\n",
    "Note the solution is just a label kind of identifier, you'll also need to create a version which is the actual trained model."
   ]
  },
  {
   "cell_type": "code",
   "execution_count": 12,
   "metadata": {},
   "outputs": [
    {
     "name": "stdout",
     "output_type": "stream",
     "text": [
      "{\n",
      "  \"solutionArn\": \"arn:aws:personalize:us-east-1:924376141954:solution/personalize-poc-rerank\",\n",
      "  \"ResponseMetadata\": {\n",
      "    \"RequestId\": \"5ea3b62d-c193-43f8-baf6-5b940b3a85ed\",\n",
      "    \"HTTPStatusCode\": 200,\n",
      "    \"HTTPHeaders\": {\n",
      "      \"content-type\": \"application/x-amz-json-1.1\",\n",
      "      \"date\": \"Sat, 15 Feb 2020 13:31:31 GMT\",\n",
      "      \"x-amzn-requestid\": \"5ea3b62d-c193-43f8-baf6-5b940b3a85ed\",\n",
      "      \"content-length\": \"92\",\n",
      "      \"connection\": \"keep-alive\"\n",
      "    },\n",
      "    \"RetryAttempts\": 0\n",
      "  }\n",
      "}\n"
     ]
    }
   ],
   "source": [
    "rerank_create_solution_response = personalize.create_solution(\n",
    "    name = \"personalize-poc-rerank\",\n",
    "    datasetGroupArn = dataset_group_arn,\n",
    "    recipeArn = rerank_recipe_arn\n",
    ")\n",
    "\n",
    "rerank_solution_arn = rerank_create_solution_response['solutionArn']\n",
    "print(json.dumps(rerank_create_solution_response, indent=2))"
   ]
  },
  {
   "cell_type": "markdown",
   "metadata": {},
   "source": [
    "#### Create the Solution Version\n",
    "\n",
    "This process will actually take a while to complete, upwards of 25 minutes on. Normally there would be while loops to poll until the task is completed. However the task would block other cells from executing and the goal here is to create many models and deploy them quickly. Below there are instructions to viewing the progress in browser. After creating all of the solution versions go there and watch for updates."
   ]
  },
  {
   "cell_type": "code",
   "execution_count": 13,
   "metadata": {},
   "outputs": [],
   "source": [
    "rerank_create_solution_version_response = personalize.create_solution_version(\n",
    "    solutionArn = rerank_solution_arn\n",
    ")"
   ]
  },
  {
   "cell_type": "code",
   "execution_count": 16,
   "metadata": {},
   "outputs": [
    {
     "name": "stdout",
     "output_type": "stream",
     "text": [
      "{\n",
      "  \"solutionVersionArn\": \"arn:aws:personalize:us-east-1:924376141954:solution/personalize-poc-rerank/3866a90f\",\n",
      "  \"ResponseMetadata\": {\n",
      "    \"RequestId\": \"93edcd94-fb92-494f-a58e-05543d424522\",\n",
      "    \"HTTPStatusCode\": 200,\n",
      "    \"HTTPHeaders\": {\n",
      "      \"content-type\": \"application/x-amz-json-1.1\",\n",
      "      \"date\": \"Sat, 15 Feb 2020 13:31:41 GMT\",\n",
      "      \"x-amzn-requestid\": \"93edcd94-fb92-494f-a58e-05543d424522\",\n",
      "      \"content-length\": \"108\",\n",
      "      \"connection\": \"keep-alive\"\n",
      "    },\n",
      "    \"RetryAttempts\": 0\n",
      "  }\n",
      "}\n"
     ]
    }
   ],
   "source": [
    "rerank_solution_version_arn = rerank_create_solution_version_response['solutionVersionArn']\n",
    "print(json.dumps(rerank_create_solution_version_response, indent=2))"
   ]
  },
  {
   "cell_type": "markdown",
   "metadata": {},
   "source": [
    "### Viewing Solution Creation Status\n",
    "\n",
    "As promised, how to view the status updates in the console:\n",
    "\n",
    "* In another browser tab you should already have the AWS Console up from opening this notebook instance. \n",
    "* Switch to that tab and search at the top for the service `Personalize`, then go to that service page. \n",
    "* Click `View dataset groups`.\n",
    "* Click the name of your dataset group, most likely something with POC in the name.\n",
    "* Click `Solutions and recipes`.\n",
    "* You will now see a list of all of the solutions you created above. Click any one of them. \n",
    "* Note in `Solution versions` the job that is in progress. Once it is `Active` you solution is ready to be reviewed. It is also capable of being deployed.\n"
   ]
  },
  {
   "cell_type": "markdown",
   "metadata": {},
   "source": [
    "## Evaluating Solutions\n",
    "\n",
    "After about an hour max the solutions should be ready for review. While they are in progress it is a good idea to cover the various algorithms and their behavior in depth. You'll have another lull period as the solutions are being deployed into campaigns as well, so you can split the material into 2 sections if that makes it easier. Also it can be a good time to discuss alternatives to how the data was fed into the system and what kind of results to expect from it.\n",
    "\n",
    "The firt step is to obtain the solutions metrics, API calls for each below."
   ]
  },
  {
   "cell_type": "markdown",
   "metadata": {},
   "source": [
    "### HRNN Metrics:"
   ]
  },
  {
   "cell_type": "code",
   "execution_count": 17,
   "metadata": {},
   "outputs": [
    {
     "name": "stdout",
     "output_type": "stream",
     "text": [
      "{\n",
      "  \"solutionVersionArn\": \"arn:aws:personalize:us-east-1:924376141954:solution/personalize-poc-hrnn/00987cb2\",\n",
      "  \"metrics\": {\n",
      "    \"coverage\": 0.0407,\n",
      "    \"mean_reciprocal_rank_at_25\": 0.0316,\n",
      "    \"normalized_discounted_cumulative_gain_at_10\": 0.0408,\n",
      "    \"normalized_discounted_cumulative_gain_at_25\": 0.0545,\n",
      "    \"normalized_discounted_cumulative_gain_at_5\": 0.0323,\n",
      "    \"precision_at_10\": 0.0066,\n",
      "    \"precision_at_25\": 0.0053,\n",
      "    \"precision_at_5\": 0.0077\n",
      "  },\n",
      "  \"ResponseMetadata\": {\n",
      "    \"RequestId\": \"bd13ee02-2080-4d92-9d8e-bd98b1e15b1f\",\n",
      "    \"HTTPStatusCode\": 200,\n",
      "    \"HTTPHeaders\": {\n",
      "      \"content-type\": \"application/x-amz-json-1.1\",\n",
      "      \"date\": \"Sat, 15 Feb 2020 14:30:44 GMT\",\n",
      "      \"x-amzn-requestid\": \"bd13ee02-2080-4d92-9d8e-bd98b1e15b1f\",\n",
      "      \"content-length\": \"404\",\n",
      "      \"connection\": \"keep-alive\"\n",
      "    },\n",
      "    \"RetryAttempts\": 0\n",
      "  }\n",
      "}\n"
     ]
    }
   ],
   "source": [
    "hrnn_solution_metrics_response = personalize.get_solution_metrics(\n",
    "    solutionVersionArn = hrnn_solution_version_arn\n",
    ")\n",
    "\n",
    "print(json.dumps(hrnn_solution_metrics_response, indent=2))"
   ]
  },
  {
   "cell_type": "markdown",
   "metadata": {},
   "source": [
    "The above metrics tell us that at 5 items, we have less than a 1% chance (.8% literally) in a recommendation being a part of a user's interaction history (in the hold out phase from training and validation). This is clearly not a great model, but keep in mind instead of plays, all we had to go on is that they tagged a particular artist and that is it.\n",
    "\n",
    "Something else to note, the users' history is influenced by ANY recommendation model that is in place as your historical data is being collected. This often means that while your model probably won't be this bad with a customer or on your own data, it does bias the metrics to favor their existing solution. If you work to just push the offline metrics to match or exceed their existing solution you may just be making HRNN start to behave like whatever they were already using.\n",
    "\n",
    "This is a great time to have a conversation about AB testing and to think about the actual business outcomes they are looking to drive. From there you look to run small experiments with Personalize against their existing recommendation system and see over time how the AB test performs. If Personalize is winning then it is the time to filter more and more traffic to Personalize and campaigns within it. Over time the bias from the existing model will fade."
   ]
  },
  {
   "cell_type": "markdown",
   "metadata": {},
   "source": [
    "### SIMS Metrics:"
   ]
  },
  {
   "cell_type": "code",
   "execution_count": 18,
   "metadata": {},
   "outputs": [
    {
     "name": "stdout",
     "output_type": "stream",
     "text": [
      "{\n",
      "  \"solutionVersionArn\": \"arn:aws:personalize:us-east-1:924376141954:solution/personalize-poc-sims/c283def0\",\n",
      "  \"metrics\": {\n",
      "    \"coverage\": 0.0846,\n",
      "    \"mean_reciprocal_rank_at_25\": 0.0393,\n",
      "    \"normalized_discounted_cumulative_gain_at_10\": 0.0444,\n",
      "    \"normalized_discounted_cumulative_gain_at_25\": 0.0571,\n",
      "    \"normalized_discounted_cumulative_gain_at_5\": 0.036,\n",
      "    \"precision_at_10\": 0.0133,\n",
      "    \"precision_at_25\": 0.0099,\n",
      "    \"precision_at_5\": 0.015\n",
      "  },\n",
      "  \"ResponseMetadata\": {\n",
      "    \"RequestId\": \"ab0a81be-feba-4056-8fb1-b4b94ca73e70\",\n",
      "    \"HTTPStatusCode\": 200,\n",
      "    \"HTTPHeaders\": {\n",
      "      \"content-type\": \"application/x-amz-json-1.1\",\n",
      "      \"date\": \"Sun, 16 Feb 2020 10:27:56 GMT\",\n",
      "      \"x-amzn-requestid\": \"ab0a81be-feba-4056-8fb1-b4b94ca73e70\",\n",
      "      \"content-length\": \"402\",\n",
      "      \"connection\": \"keep-alive\"\n",
      "    },\n",
      "    \"RetryAttempts\": 0\n",
      "  }\n",
      "}\n"
     ]
    }
   ],
   "source": [
    "sims_solution_metrics_response = personalize.get_solution_metrics(\n",
    "    solutionVersionArn = sims_solution_version_arn\n",
    ")\n",
    "\n",
    "print(json.dumps(sims_solution_metrics_response, indent=2))"
   ]
  },
  {
   "cell_type": "markdown",
   "metadata": {},
   "source": [
    "In this example we are seeing a slightly elivated precision at 5, a little over 1% at 1.04% this time. Effectively this is probably within the margin of error but given that no effort was made to mask popularity, it may just be returning super popular results that a large volume of users have interacted with in some way. "
   ]
  },
  {
   "cell_type": "markdown",
   "metadata": {},
   "source": [
    "### Personalized Ranking Metrics:"
   ]
  },
  {
   "cell_type": "code",
   "execution_count": 19,
   "metadata": {},
   "outputs": [
    {
     "name": "stdout",
     "output_type": "stream",
     "text": [
      "{\n",
      "  \"solutionVersionArn\": \"arn:aws:personalize:us-east-1:924376141954:solution/personalize-poc-rerank/3866a90f\",\n",
      "  \"metrics\": {\n",
      "    \"coverage\": 0.0021,\n",
      "    \"mean_reciprocal_rank_at_25\": 0.0193,\n",
      "    \"normalized_discounted_cumulative_gain_at_10\": 0.0345,\n",
      "    \"normalized_discounted_cumulative_gain_at_25\": 0.0461,\n",
      "    \"normalized_discounted_cumulative_gain_at_5\": 0.0293,\n",
      "    \"precision_at_10\": 0.0063,\n",
      "    \"precision_at_25\": 0.0053,\n",
      "    \"precision_at_5\": 0.0091\n",
      "  },\n",
      "  \"ResponseMetadata\": {\n",
      "    \"RequestId\": \"0fa00a0a-5304-490c-8f89-cafaf2cad503\",\n",
      "    \"HTTPStatusCode\": 200,\n",
      "    \"HTTPHeaders\": {\n",
      "      \"content-type\": \"application/x-amz-json-1.1\",\n",
      "      \"date\": \"Sun, 16 Feb 2020 10:27:58 GMT\",\n",
      "      \"x-amzn-requestid\": \"0fa00a0a-5304-490c-8f89-cafaf2cad503\",\n",
      "      \"content-length\": \"406\",\n",
      "      \"connection\": \"keep-alive\"\n",
      "    },\n",
      "    \"RetryAttempts\": 0\n",
      "  }\n",
      "}\n"
     ]
    }
   ],
   "source": [
    "rerank_solution_metrics_response = personalize.get_solution_metrics(\n",
    "    solutionVersionArn = rerank_solution_version_arn\n",
    ")\n",
    "\n",
    "print(json.dumps(rerank_solution_metrics_response, indent=2))"
   ]
  },
  {
   "cell_type": "markdown",
   "metadata": {},
   "source": [
    "### Storing Useful Variables]\n",
    "\n",
    "Before exiting this notebook, run the following cells to save off our version arns for use later."
   ]
  },
  {
   "cell_type": "code",
   "execution_count": 20,
   "metadata": {},
   "outputs": [
    {
     "name": "stdout",
     "output_type": "stream",
     "text": [
      "Stored 'hrnn_solution_version_arn' (str)\n",
      "Stored 'sims_solution_version_arn' (str)\n",
      "Stored 'rerank_solution_version_arn' (str)\n"
     ]
    }
   ],
   "source": [
    "%store hrnn_solution_version_arn\n",
    "%store sims_solution_version_arn\n",
    "%store rerank_solution_version_arn"
   ]
  },
  {
   "cell_type": "markdown",
   "metadata": {},
   "source": [
    "\n",
    "Congratulations. You have created 3 solutions on Amazon Personalize and analyzed their performance."
   ]
  }
 ],
 "metadata": {
  "kernelspec": {
   "display_name": "conda_python3",
   "language": "python",
   "name": "conda_python3"
  },
  "language_info": {
   "codemirror_mode": {
    "name": "ipython",
    "version": 3
   },
   "file_extension": ".py",
   "mimetype": "text/x-python",
   "name": "python",
   "nbconvert_exporter": "python",
   "pygments_lexer": "ipython3",
   "version": "3.6.5"
  }
 },
 "nbformat": 4,
 "nbformat_minor": 4
}
