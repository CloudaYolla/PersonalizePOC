{
 "cells": [
  {
   "cell_type": "markdown",
   "metadata": {},
   "source": [
    "# Creating and Evaluating Solutions \n",
    "\n",
    "To recap from the first notebook:\n",
    "\n",
    "For the most part the algorithms in Amazon Personalize look to solve different tasks explained here:\n",
    "\n",
    "1. HRNN & HRNN-Metadata - Personalization\n",
    "1. HRNN Coldstart - Personalization that promotes new conten\n",
    "1. Personalized-Ranking - Takes a collection of items and then orders them in probable order of interest using an HRNN-like approach.\n",
    "1. SIMS(Similar Items) - Given one item, what other items are also interacted with by users.\n",
    "1. Popularity-Count - What items are most popular, if HRNN or HRNN-Metadata do not have an answer for the user you query, this is what is returned by default.\n",
    "\n",
    "\n",
    "No matter the use case, the algorithms all share a base of learning on user-item-interaction data which is defined by 3 core attributes:\n",
    "\n",
    "1. UserID - User who interacted\n",
    "1. ItemID - Item the user interacted with\n",
    "1. Timestamp - When did this interaction occur\n",
    "\n",
    "We also support event types and event values defined by:\n",
    "\n",
    "1. Event Type - Categorical label of an event (browse, purcahsed, rated, etc).\n",
    "1. Event Value - Something corresponding to event type that happened. Generally speaking we look to normalized between 0 and 1 for the values over the types. So if there are three phases to complete a transaction (clicked, added-to-cart, and purchased) there would be an event_value for each phase as 0.33, 0.66, 1.0 respectfully.\n",
    "\n",
    "In this particular exercise we will leave event_type and event_value ignored. They can come in handy later but are skipped for the initial POC. \n",
    "\n",
    "The previous notebooks covered:\n",
    "\n",
    "1. Selecting a dataset.\n",
    "1. Preparing interactions data for Personalize.\n",
    "1. Preparing item or user metadata for Personalize [Optional].\n",
    "1. Creating a Dataset Group.\n",
    "1. Creating and importing data into an Interactions dataset within the dataset group.\n",
    "1. Creating and importing data into the metadata datasets [Optional].\n",
    "\n",
    "\n",
    "## Creating Solutions\n",
    "\n",
    "This nobeook will cover creating the following solutions:\n",
    "\n",
    "1. HRNN\n",
    "1. SIMS\n",
    "1. Personalized-Ranking\n",
    "\n",
    "After that the metrics will be explained and another notebook will showcase how to interact with the Solutions once they are deployed into a Campaign.\n",
    "\n",
    "The first step is to reload the imports and the stored variables from the previous notebooks."
   ]
  },
  {
   "cell_type": "code",
   "execution_count": 1,
   "metadata": {},
   "outputs": [],
   "source": [
    "import boto3\n",
    "from time import sleep\n",
    "import subprocess\n",
    "import pandas as pd\n",
    "import json\n",
    "import time\n",
    "import pprint\n",
    "import numpy as np\n",
    "import matplotlib.pyplot as plt\n",
    "from matplotlib.dates import DateFormatter\n",
    "import matplotlib.dates as mdates\n",
    "from datetime import datetime"
   ]
  },
  {
   "cell_type": "code",
   "execution_count": 2,
   "metadata": {},
   "outputs": [],
   "source": [
    "%store -r"
   ]
  },
  {
   "cell_type": "code",
   "execution_count": 4,
   "metadata": {},
   "outputs": [],
   "source": [
    "# Configure the SDK to Personalize:\n",
    "personalize = boto3.client('personalize')\n",
    "personalize_runtime = boto3.client('personalize-runtime')"
   ]
  },
  {
   "cell_type": "markdown",
   "metadata": {},
   "source": [
    "In Amazon Personalize a trained model is called a Solution, each Solution can have many specific versions that relate to a given volume of data when the model was trained.\n",
    "\n",
    "To begin we will list all the recipies that are supported, a recipie is an algorithm that has not been trained on your data yet. After listing you'll select one and use that to build your model.\n"
   ]
  },
  {
   "cell_type": "code",
   "execution_count": 5,
   "metadata": {},
   "outputs": [
    {
     "data": {
      "text/plain": [
       "{'recipes': [{'name': 'aws-hrnn',\n",
       "   'recipeArn': 'arn:aws:personalize:::recipe/aws-hrnn',\n",
       "   'status': 'ACTIVE',\n",
       "   'creationDateTime': datetime.datetime(2019, 6, 10, 0, 0, tzinfo=tzlocal()),\n",
       "   'lastUpdatedDateTime': datetime.datetime(2019, 6, 20, 0, 39, 17, 65000, tzinfo=tzlocal())},\n",
       "  {'name': 'aws-hrnn-coldstart',\n",
       "   'recipeArn': 'arn:aws:personalize:::recipe/aws-hrnn-coldstart',\n",
       "   'status': 'ACTIVE',\n",
       "   'creationDateTime': datetime.datetime(2019, 6, 10, 0, 0, tzinfo=tzlocal()),\n",
       "   'lastUpdatedDateTime': datetime.datetime(2019, 6, 20, 0, 39, 17, 64000, tzinfo=tzlocal())},\n",
       "  {'name': 'aws-hrnn-metadata',\n",
       "   'recipeArn': 'arn:aws:personalize:::recipe/aws-hrnn-metadata',\n",
       "   'status': 'ACTIVE',\n",
       "   'creationDateTime': datetime.datetime(2019, 6, 10, 0, 0, tzinfo=tzlocal()),\n",
       "   'lastUpdatedDateTime': datetime.datetime(2019, 6, 20, 0, 39, 17, 64000, tzinfo=tzlocal())},\n",
       "  {'name': 'aws-personalized-ranking',\n",
       "   'recipeArn': 'arn:aws:personalize:::recipe/aws-personalized-ranking',\n",
       "   'status': 'ACTIVE',\n",
       "   'creationDateTime': datetime.datetime(2019, 6, 10, 0, 0, tzinfo=tzlocal()),\n",
       "   'lastUpdatedDateTime': datetime.datetime(2019, 6, 20, 0, 39, 17, 65000, tzinfo=tzlocal())},\n",
       "  {'name': 'aws-popularity-count',\n",
       "   'recipeArn': 'arn:aws:personalize:::recipe/aws-popularity-count',\n",
       "   'status': 'ACTIVE',\n",
       "   'creationDateTime': datetime.datetime(2019, 6, 10, 0, 0, tzinfo=tzlocal()),\n",
       "   'lastUpdatedDateTime': datetime.datetime(2019, 6, 20, 0, 39, 17, 65000, tzinfo=tzlocal())},\n",
       "  {'name': 'aws-sims',\n",
       "   'recipeArn': 'arn:aws:personalize:::recipe/aws-sims',\n",
       "   'status': 'ACTIVE',\n",
       "   'creationDateTime': datetime.datetime(2019, 6, 10, 0, 0, tzinfo=tzlocal()),\n",
       "   'lastUpdatedDateTime': datetime.datetime(2019, 6, 20, 0, 39, 17, 64000, tzinfo=tzlocal())}],\n",
       " 'ResponseMetadata': {'RequestId': '63c16757-db7b-4283-b2e4-443b342084bf',\n",
       "  'HTTPStatusCode': 200,\n",
       "  'HTTPHeaders': {'content-type': 'application/x-amz-json-1.1',\n",
       "   'date': 'Sun, 12 Jan 2020 19:30:32 GMT',\n",
       "   'x-amzn-requestid': '63c16757-db7b-4283-b2e4-443b342084bf',\n",
       "   'content-length': '1067',\n",
       "   'connection': 'keep-alive'},\n",
       "  'RetryAttempts': 0}}"
      ]
     },
     "execution_count": 5,
     "metadata": {},
     "output_type": "execute_result"
    }
   ],
   "source": [
    "list_recipes_response = personalize.list_recipes()\n",
    "list_recipes_response"
   ]
  },
  {
   "cell_type": "markdown",
   "metadata": {},
   "source": [
    "That is just a JSON representation of all of the algorithms that we have mentioned already. \n",
    "\n",
    "Next we will select a particular algorithm then build a model with it.\n",
    "\n",
    "### HRNN\n",
    "\n",
    "\n",
    "HRNN is one of the more advanced recommendation models that you can use and it allows for things like real-time updates of recommendations based on user behavior. It also tends to out perform other approaches like collaborative filtering. We will kick this job off first as it takes the longest to complete.\n",
    "\n",
    "#### Select Recipe"
   ]
  },
  {
   "cell_type": "code",
   "execution_count": 6,
   "metadata": {},
   "outputs": [],
   "source": [
    "HRNN_recipe_arn = \"arn:aws:personalize:::recipe/aws-hrnn\""
   ]
  },
  {
   "cell_type": "markdown",
   "metadata": {},
   "source": [
    "#### Create and Wait for Solution\n",
    "First you will create the solution with the API, then you will create a version. It will take several minutes to train the model and thus create your version of a solution. Once it gets started and you are seeing the in progress notifications it is a good time to take a break, grab a coffee, etc.\n",
    "\n",
    "Note the solution is just a label kind of identifier, you'll also need to create a version which is the actual trained model."
   ]
  },
  {
   "cell_type": "code",
   "execution_count": 10,
   "metadata": {},
   "outputs": [
    {
     "name": "stdout",
     "output_type": "stream",
     "text": [
      "{\n",
      "  \"solutionArn\": \"arn:aws:personalize:us-east-1:059124553121:solution/personalize-poc-hrnn\",\n",
      "  \"ResponseMetadata\": {\n",
      "    \"RequestId\": \"1d2424db-7ad0-47ef-b305-91d64d7263ac\",\n",
      "    \"HTTPStatusCode\": 200,\n",
      "    \"HTTPHeaders\": {\n",
      "      \"content-type\": \"application/x-amz-json-1.1\",\n",
      "      \"date\": \"Sun, 12 Jan 2020 19:34:51 GMT\",\n",
      "      \"x-amzn-requestid\": \"1d2424db-7ad0-47ef-b305-91d64d7263ac\",\n",
      "      \"content-length\": \"90\",\n",
      "      \"connection\": \"keep-alive\"\n",
      "    },\n",
      "    \"RetryAttempts\": 0\n",
      "  }\n",
      "}\n"
     ]
    }
   ],
   "source": [
    "hrnn_create_solution_response = personalize.create_solution(\n",
    "    name = \"personalize-poc-hrnn\",\n",
    "    datasetGroupArn = dataset_group_arn,\n",
    "    recipeArn = HRNN_recipe_arn\n",
    ")\n",
    "\n",
    "hrnn_solution_arn = hrnn_create_solution_response['solutionArn']\n",
    "print(json.dumps(hrnn_create_solution_response, indent=2))"
   ]
  },
  {
   "cell_type": "markdown",
   "metadata": {},
   "source": [
    "#### Create the Solution Version\n",
    "\n",
    "This process will actually take a while to complete, upwards of 25 minutes on. Normally there would be while loops to poll until the task is completed. However the task would block other cells from executing and the goal here is to create many models and deploy them quickly. Below there are instructions to viewing the progress in browser. After creating all of the solution versions go there and watch for updates."
   ]
  },
  {
   "cell_type": "code",
   "execution_count": 12,
   "metadata": {},
   "outputs": [],
   "source": [
    "hrnn_create_solution_version_response = personalize.create_solution_version(\n",
    "    solutionArn = hrnn_solution_arn\n",
    ")"
   ]
  },
  {
   "cell_type": "code",
   "execution_count": 13,
   "metadata": {},
   "outputs": [
    {
     "name": "stdout",
     "output_type": "stream",
     "text": [
      "{\n",
      "  \"solutionVersionArn\": \"arn:aws:personalize:us-east-1:059124553121:solution/personalize-poc-hrnn/2ef6b9c1\",\n",
      "  \"ResponseMetadata\": {\n",
      "    \"RequestId\": \"757ea8fd-19a0-44de-bc43-23174dd783f5\",\n",
      "    \"HTTPStatusCode\": 200,\n",
      "    \"HTTPHeaders\": {\n",
      "      \"content-type\": \"application/x-amz-json-1.1\",\n",
      "      \"date\": \"Sun, 12 Jan 2020 19:37:48 GMT\",\n",
      "      \"x-amzn-requestid\": \"757ea8fd-19a0-44de-bc43-23174dd783f5\",\n",
      "      \"content-length\": \"106\",\n",
      "      \"connection\": \"keep-alive\"\n",
      "    },\n",
      "    \"RetryAttempts\": 0\n",
      "  }\n",
      "}\n"
     ]
    }
   ],
   "source": [
    "hrnn_solution_version_arn = hrnn_create_solution_version_response['solutionVersionArn']\n",
    "print(json.dumps(hrnn_create_solution_version_response, indent=2))"
   ]
  },
  {
   "cell_type": "code",
   "execution_count": null,
   "metadata": {},
   "outputs": [],
   "source": []
  }
 ],
 "metadata": {
  "kernelspec": {
   "display_name": "conda_python3",
   "language": "python",
   "name": "conda_python3"
  },
  "language_info": {
   "codemirror_mode": {
    "name": "ipython",
    "version": 3
   },
   "file_extension": ".py",
   "mimetype": "text/x-python",
   "name": "python",
   "nbconvert_exporter": "python",
   "pygments_lexer": "ipython3",
   "version": "3.6.5"
  }
 },
 "nbformat": 4,
 "nbformat_minor": 4
}
